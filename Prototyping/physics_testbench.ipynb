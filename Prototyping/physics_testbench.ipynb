{
 "cells": [
  {
   "cell_type": "code",
   "execution_count": 1,
   "metadata": {},
   "outputs": [],
   "source": [
    "# Compile c++ physics engine\n",
    "!c++ -O3 -Wall -shared -std=c++11 -fPIC $(python3 -m pybind11 --includes) SPHEngine_Pybind.cpp -o fluidSim$(python3-config --extension-suffix)"
   ]
  },
  {
   "cell_type": "code",
   "execution_count": 2,
   "metadata": {},
   "outputs": [],
   "source": [
    "import numpy as np\n",
    "import matplotlib.pyplot as plt\n",
    "import matplotlib.animation as animation\n",
    "from math import pi\n",
    "import fluidSim  # The pybind11 module compiled from fluid_sim.cpp\n",
    "\n",
    "from matplotlib.colors import LinearSegmentedColormap\n",
    "import matplotlib.colors as colors\n",
    "\n",
    "%matplotlib qt\n"
   ]
  },
  {
   "cell_type": "code",
   "execution_count": 3,
   "metadata": {},
   "outputs": [],
   "source": [
    "# Simulation constants (could also be taken from fluidSim if desired)\n",
    "SIM_W = fluidSim.SIM_W\n",
    "SIM_H = fluidSim.SIM_H\n",
    "BOTTOM = fluidSim.BOTTOM\n",
    "TOP = fluidSim.TOP\n",
    "G_ANG = fluidSim.G_ANG\n",
    "G_MAG = fluidSim.G_MAG\n",
    "N = 350  # Number of particles\n",
    "VAR_INTENSITY = True\n",
    "MAX_INTENSITY = 1\n",
    "\n",
    "# Create the simulation instance with particles randomly placed in the domain.\n",
    "sim = fluidSim.Simulation(N, -SIM_W, SIM_W, BOTTOM, TOP)\n",
    "frame = 0\n",
    "frame_grid = 0"
   ]
  },
  {
   "cell_type": "code",
   "execution_count": 4,
   "metadata": {},
   "outputs": [
    {
     "name": "stderr",
     "output_type": "stream",
     "text": [
      "/tmp/ipykernel_7520/1200804822.py:16: UserWarning: frames=None which we can infer the length of, did not pass an explicit *save_count* and passed cache_frame_data=True.  To avoid a possibly unbounded cache, frame data caching has been disabled. To suppress this warning either pass `cache_frame_data=False` or `save_count=MAX_FRAMES`.\n",
      "  ani = animation.FuncAnimation(fig, animate, interval=10, blit=True)\n"
     ]
    }
   ],
   "source": [
    "# ------------- Particle Animation -----------------\n",
    "fig = plt.figure()\n",
    "ax = fig.add_subplot(1, 1, 1, xlim=(-SIM_W, SIM_W), ylim=(0, SIM_H))\n",
    "points, = ax.plot([], [], \"o\", ms=20, color=\"black\")\n",
    "\n",
    "def animate(i):\n",
    "    global frame\n",
    "    # Update simulation state (varying g_ang as an example)\n",
    "    sim.update(G_MAG, G_ANG + frame * pi / 100)\n",
    "    # Get particle positions as a flat list and reshape to (N,2)\n",
    "    pos = np.array(sim.get_visual_positions()).reshape(-1, 2)\n",
    "    points.set_data(pos[:, 0], pos[:, 1])\n",
    "    frame += 1\n",
    "    return (points,)\n",
    "\n",
    "ani = animation.FuncAnimation(fig, animate, interval=10, blit=True)\n",
    "plt.show()"
   ]
  },
  {
   "cell_type": "code",
   "execution_count": 5,
   "metadata": {},
   "outputs": [
    {
     "name": "stderr",
     "output_type": "stream",
     "text": [
      "/tmp/ipykernel_7520/1439353591.py:40: UserWarning: frames=None which we can infer the length of, did not pass an explicit *save_count* and passed cache_frame_data=True.  To avoid a possibly unbounded cache, frame data caching has been disabled. To suppress this warning either pass `cache_frame_data=False` or `save_count=MAX_FRAMES`.\n",
      "  ani_grid = animation.FuncAnimation(fig_grid, animate_grid, interval=10, blit=True)\n"
     ]
    }
   ],
   "source": [
    "# ------------- Grid Animation -----------------\n",
    "if VAR_INTENSITY:\n",
    "    custom_cmap = LinearSegmentedColormap.from_list('white_to_black', ['white', 'black'])\n",
    "    max_intensity = 4\n",
    "    norm = colors.Normalize(vmin=0, vmax=max_intensity)\n",
    "\n",
    "\n",
    "def hash_grid(positions, sim_w, sim_h, cell_size=0.1, binary=True):\n",
    "    # Compute grid dimensions\n",
    "    nx = int((2 * sim_w) / cell_size)\n",
    "    ny = int(sim_h / cell_size)\n",
    "    grid = np.zeros((ny, nx), dtype=int)\n",
    "    for (x, y) in positions:\n",
    "        x_index = int((x + sim_w) / cell_size)\n",
    "        y_index = int(y / cell_size)\n",
    "        if 0 <= x_index < nx and 0 <= y_index < ny:\n",
    "            if binary:\n",
    "                grid[y_index, x_index] = 1\n",
    "            else:\n",
    "                grid[y_index, x_index] += 1\n",
    "    return grid\n",
    "\n",
    "fig_grid = plt.figure()\n",
    "ax_grid = fig_grid.add_subplot(1, 1, 1, xlim=(-SIM_W, SIM_W), ylim=(0, SIM_H))\n",
    "# Get an initial grid image\n",
    "init_pos = np.array(sim.get_visual_positions()).reshape(-1, 2)\n",
    "init_grid = hash_grid(init_pos, SIM_W, SIM_H, cell_size=0.1, binary=not VAR_INTENSITY)\n",
    "GRID_IM = ax_grid.imshow(init_grid, cmap=\"binary\" if not VAR_INTENSITY else custom_cmap, origin='lower',\n",
    "                         extent=(-SIM_W, SIM_W, 0, SIM_H), interpolation='none')\n",
    "\n",
    "def animate_grid(i):\n",
    "    global frame_grid\n",
    "    sim.update(G_MAG, G_ANG + frame_grid * np.pi/75)\n",
    "    pos = np.array(sim.get_visual_positions()).reshape(-1, 2)\n",
    "    grid_data = hash_grid(pos, SIM_W, SIM_H, cell_size=0.1, binary=not VAR_INTENSITY)\n",
    "    GRID_IM.set_data(grid_data)\n",
    "    frame_grid += 1\n",
    "    return (GRID_IM,)\n",
    "\n",
    "ani_grid = animation.FuncAnimation(fig_grid, animate_grid, interval=10, blit=True)"
   ]
  }
 ],
 "metadata": {
  "interpreter": {
   "hash": "b0f8a4aff6b3ccc7047d7208a9c4ae4cdb2800965b478c1e3fea23b58e633eb2"
  },
  "kernelspec": {
   "display_name": "Python 3.9.7 ('base')",
   "language": "python",
   "name": "python3"
  },
  "language_info": {
   "codemirror_mode": {
    "name": "ipython",
    "version": 3
   },
   "file_extension": ".py",
   "mimetype": "text/x-python",
   "name": "python",
   "nbconvert_exporter": "python",
   "pygments_lexer": "ipython3",
   "version": "3.9.7"
  },
  "orig_nbformat": 4
 },
 "nbformat": 4,
 "nbformat_minor": 2
}
